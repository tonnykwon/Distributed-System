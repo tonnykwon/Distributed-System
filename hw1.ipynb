{
 "cells": [
  {
   "cell_type": "code",
   "execution_count": 1,
   "metadata": {},
   "outputs": [],
   "source": [
    "from functools import reduce\n",
    "import pandas as pd"
   ]
  },
  {
   "cell_type": "markdown",
   "metadata": {},
   "source": [
    "## Data"
   ]
  },
  {
   "cell_type": "code",
   "execution_count": 2,
   "metadata": {},
   "outputs": [],
   "source": [
    "data = ([[\"a\"], [\"c\"]], [[\"a\"], [\"b\"]],[[\"a\"], [\"d\"]], [[\"b\"], [\"a\"]], [[\"c\"], [\"a\"]])\n",
    "data = pd.read_csv(\"hw1_p1_data.txt\", header=None)"
   ]
  },
  {
   "cell_type": "code",
   "execution_count": 3,
   "metadata": {},
   "outputs": [
    {
     "name": "stdout",
     "output_type": "stream",
     "text": [
      "[['a', 'b'], ['b', 'a'], ['a', 'c'], ['c', 'a'], ['b', 'c'], ['c', 'b'], ['b', 'd'], ['d', 'e']]\n"
     ]
    }
   ],
   "source": [
    "test= []\n",
    "n =(data.shape[0])\n",
    "for i in range(0,n):\n",
    "    test += [list(data.iloc[i,:])]\n",
    "print(test)"
   ]
  },
  {
   "cell_type": "code",
   "execution_count": 35,
   "metadata": {
    "scrolled": true
   },
   "outputs": [
    {
     "name": "stdout",
     "output_type": "stream",
     "text": [
      "['a', 1]\n",
      "['b', 'a']\n",
      "['a', 'c']\n",
      "['c', 'a']\n",
      "['b', 'c']\n",
      "['c', 1]\n",
      "['b', 'd']\n",
      "['d', 'e']\n"
     ]
    }
   ],
   "source": [
    "for x,y in test:\n",
    "    if(y==target):\n",
    "        print([x,1])\n",
    "    else:\n",
    "        print([x,y])"
   ]
  },
  {
   "cell_type": "code",
   "execution_count": null,
   "metadata": {},
   "outputs": [],
   "source": [
    "for i in range(0,n):\n",
    "    print(list(map(lambda key,value: [key,value], test[i])))"
   ]
  },
  {
   "cell_type": "code",
   "execution_count": 56,
   "metadata": {},
   "outputs": [
    {
     "name": "stdout",
     "output_type": "stream",
     "text": [
      "[['1', 'a'], ['a', 'b'], ['c', 'a'], ['a', 'c'], ['c', 'b'], ['1', 'c'], ['d', 'b'], ['e', 'd']]\n"
     ]
    }
   ],
   "source": [
    "target=\"b\"\n",
    "test_map = list(map(lambda key: [\"1\", key[0]] if key[1]==target else [key[1], key[0]], test))\n",
    "print(test_map)"
   ]
  },
  {
   "cell_type": "code",
   "execution_count": 61,
   "metadata": {},
   "outputs": [
    {
     "data": {
      "text/plain": [
       "'1'"
      ]
     },
     "execution_count": 61,
     "metadata": {},
     "output_type": "execute_result"
    }
   ],
   "source": [
    "reduce(lambda key,value: key[0] , test_map)"
   ]
  },
  {
   "cell_type": "code",
   "execution_count": 289,
   "metadata": {},
   "outputs": [
    {
     "data": {
      "text/plain": [
       "[['a'], ['c']]"
      ]
     },
     "execution_count": 289,
     "metadata": {},
     "output_type": "execute_result"
    }
   ],
   "source": [
    "reduce( lambda a,b: [a[0], b[0]] if a[0]==b[1] else b, result)"
   ]
  },
  {
   "cell_type": "code",
   "execution_count": 351,
   "metadata": {},
   "outputs": [],
   "source": [
    "a = 1\n",
    "b= [2,3,4]\n",
    "\n",
    "def test(a,b):\n",
    "    for item in b:\n",
    "        print([a,item])"
   ]
  },
  {
   "cell_type": "code",
   "execution_count": 352,
   "metadata": {},
   "outputs": [
    {
     "name": "stdout",
     "output_type": "stream",
     "text": [
      "[1, 2]\n",
      "[1, 3]\n",
      "[1, 4]\n"
     ]
    }
   ],
   "source": [
    "test(a,b)"
   ]
  },
  {
   "cell_type": "code",
   "execution_count": null,
   "metadata": {},
   "outputs": [],
   "source": []
  }
 ],
 "metadata": {
  "kernelspec": {
   "display_name": "Python 3",
   "language": "python",
   "name": "python3"
  },
  "language_info": {
   "codemirror_mode": {
    "name": "ipython",
    "version": 3
   },
   "file_extension": ".py",
   "mimetype": "text/x-python",
   "name": "python",
   "nbconvert_exporter": "python",
   "pygments_lexer": "ipython3",
   "version": "3.6.4"
  }
 },
 "nbformat": 4,
 "nbformat_minor": 2
}
